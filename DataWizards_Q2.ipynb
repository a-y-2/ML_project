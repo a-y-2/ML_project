{
  "nbformat": 4,
  "nbformat_minor": 0,
  "metadata": {
    "colab": {
      "provenance": []
    },
    "kernelspec": {
      "name": "python3",
      "display_name": "Python 3"
    },
    "language_info": {
      "name": "python"
    }
  },
  "cells": [
    {
      "cell_type": "code",
      "execution_count": 1,
      "metadata": {
        "colab": {
          "base_uri": "https://localhost:8080/"
        },
        "id": "oBeNcR5mWUMI",
        "outputId": "90f383aa-a4d0-444a-bdc8-7498b3c496db"
      },
      "outputs": [
        {
          "output_type": "stream",
          "name": "stdout",
          "text": [
            "Mounted at /content/drive\n"
          ]
        }
      ],
      "source": [
        "import csv\n",
        "import pandas as pd\n",
        "import numpy as np\n",
        "import matplotlib.pylab as plt\n",
        "\n",
        "from google.colab import drive\n",
        "\n",
        "drive.mount('/content/drive')\n",
        "\n",
        "path_link = \"/content/drive/MyDrive/housing.csv\"\n",
        "df = pd.read_csv(path_link)"
      ]
    },
    {
      "cell_type": "code",
      "source": [
        "df.head()"
      ],
      "metadata": {
        "colab": {
          "base_uri": "https://localhost:8080/",
          "height": 307
        },
        "id": "5DMC3xwkWglc",
        "outputId": "48af772d-f195-4a31-a10b-48992d6cc5c4"
      },
      "execution_count": 2,
      "outputs": [
        {
          "output_type": "execute_result",
          "data": {
            "text/plain": [
              "           id   Date  number of bedrooms  number of bathrooms  living area  \\\n",
              "0  6762810145  42491                   5                 2.50         3650   \n",
              "1  6762810635  42491                   4                 2.50         2920   \n",
              "2  6762810998  42491                   5                 2.75         2910   \n",
              "3  6762812605  42491                   4                 2.50         3310   \n",
              "4  6762812919  42491                   3                 2.00         2710   \n",
              "\n",
              "   lot area  number of floors  waterfront present  number of views  \\\n",
              "0      9050               2.0                   0                4   \n",
              "1      4000               1.5                   0                0   \n",
              "2      9480               1.5                   0                0   \n",
              "3     42998               2.0                   0                0   \n",
              "4      4500               1.5                   0                0   \n",
              "\n",
              "   condition of the house  ...  Built Year  Renovation Year  Postal Code  \\\n",
              "0                       5  ...        1921                0       122003   \n",
              "1                       5  ...        1909                0       122004   \n",
              "2                       3  ...        1939                0       122004   \n",
              "3                       3  ...        2001                0       122005   \n",
              "4                       4  ...        1929                0       122006   \n",
              "\n",
              "   Lattitude  Longitude  living_area_renov  lot_area_renov  \\\n",
              "0    52.8645   -114.557               2880            5400   \n",
              "1    52.8878   -114.470               2470            4000   \n",
              "2    52.8852   -114.468               2940            6600   \n",
              "3    52.9532   -114.321               3350           42847   \n",
              "4    52.9047   -114.485               2060            4500   \n",
              "\n",
              "   Number of schools nearby  Distance from the airport    Price  \n",
              "0                         2                         58  2380000  \n",
              "1                         2                         51  1400000  \n",
              "2                         1                         53  1200000  \n",
              "3                         3                         76   838000  \n",
              "4                         1                         51   805000  \n",
              "\n",
              "[5 rows x 23 columns]"
            ],
            "text/html": [
              "\n",
              "  <div id=\"df-0bc7e9b2-cba9-4c28-8f48-369672a21ffe\" class=\"colab-df-container\">\n",
              "    <div>\n",
              "<style scoped>\n",
              "    .dataframe tbody tr th:only-of-type {\n",
              "        vertical-align: middle;\n",
              "    }\n",
              "\n",
              "    .dataframe tbody tr th {\n",
              "        vertical-align: top;\n",
              "    }\n",
              "\n",
              "    .dataframe thead th {\n",
              "        text-align: right;\n",
              "    }\n",
              "</style>\n",
              "<table border=\"1\" class=\"dataframe\">\n",
              "  <thead>\n",
              "    <tr style=\"text-align: right;\">\n",
              "      <th></th>\n",
              "      <th>id</th>\n",
              "      <th>Date</th>\n",
              "      <th>number of bedrooms</th>\n",
              "      <th>number of bathrooms</th>\n",
              "      <th>living area</th>\n",
              "      <th>lot area</th>\n",
              "      <th>number of floors</th>\n",
              "      <th>waterfront present</th>\n",
              "      <th>number of views</th>\n",
              "      <th>condition of the house</th>\n",
              "      <th>...</th>\n",
              "      <th>Built Year</th>\n",
              "      <th>Renovation Year</th>\n",
              "      <th>Postal Code</th>\n",
              "      <th>Lattitude</th>\n",
              "      <th>Longitude</th>\n",
              "      <th>living_area_renov</th>\n",
              "      <th>lot_area_renov</th>\n",
              "      <th>Number of schools nearby</th>\n",
              "      <th>Distance from the airport</th>\n",
              "      <th>Price</th>\n",
              "    </tr>\n",
              "  </thead>\n",
              "  <tbody>\n",
              "    <tr>\n",
              "      <th>0</th>\n",
              "      <td>6762810145</td>\n",
              "      <td>42491</td>\n",
              "      <td>5</td>\n",
              "      <td>2.50</td>\n",
              "      <td>3650</td>\n",
              "      <td>9050</td>\n",
              "      <td>2.0</td>\n",
              "      <td>0</td>\n",
              "      <td>4</td>\n",
              "      <td>5</td>\n",
              "      <td>...</td>\n",
              "      <td>1921</td>\n",
              "      <td>0</td>\n",
              "      <td>122003</td>\n",
              "      <td>52.8645</td>\n",
              "      <td>-114.557</td>\n",
              "      <td>2880</td>\n",
              "      <td>5400</td>\n",
              "      <td>2</td>\n",
              "      <td>58</td>\n",
              "      <td>2380000</td>\n",
              "    </tr>\n",
              "    <tr>\n",
              "      <th>1</th>\n",
              "      <td>6762810635</td>\n",
              "      <td>42491</td>\n",
              "      <td>4</td>\n",
              "      <td>2.50</td>\n",
              "      <td>2920</td>\n",
              "      <td>4000</td>\n",
              "      <td>1.5</td>\n",
              "      <td>0</td>\n",
              "      <td>0</td>\n",
              "      <td>5</td>\n",
              "      <td>...</td>\n",
              "      <td>1909</td>\n",
              "      <td>0</td>\n",
              "      <td>122004</td>\n",
              "      <td>52.8878</td>\n",
              "      <td>-114.470</td>\n",
              "      <td>2470</td>\n",
              "      <td>4000</td>\n",
              "      <td>2</td>\n",
              "      <td>51</td>\n",
              "      <td>1400000</td>\n",
              "    </tr>\n",
              "    <tr>\n",
              "      <th>2</th>\n",
              "      <td>6762810998</td>\n",
              "      <td>42491</td>\n",
              "      <td>5</td>\n",
              "      <td>2.75</td>\n",
              "      <td>2910</td>\n",
              "      <td>9480</td>\n",
              "      <td>1.5</td>\n",
              "      <td>0</td>\n",
              "      <td>0</td>\n",
              "      <td>3</td>\n",
              "      <td>...</td>\n",
              "      <td>1939</td>\n",
              "      <td>0</td>\n",
              "      <td>122004</td>\n",
              "      <td>52.8852</td>\n",
              "      <td>-114.468</td>\n",
              "      <td>2940</td>\n",
              "      <td>6600</td>\n",
              "      <td>1</td>\n",
              "      <td>53</td>\n",
              "      <td>1200000</td>\n",
              "    </tr>\n",
              "    <tr>\n",
              "      <th>3</th>\n",
              "      <td>6762812605</td>\n",
              "      <td>42491</td>\n",
              "      <td>4</td>\n",
              "      <td>2.50</td>\n",
              "      <td>3310</td>\n",
              "      <td>42998</td>\n",
              "      <td>2.0</td>\n",
              "      <td>0</td>\n",
              "      <td>0</td>\n",
              "      <td>3</td>\n",
              "      <td>...</td>\n",
              "      <td>2001</td>\n",
              "      <td>0</td>\n",
              "      <td>122005</td>\n",
              "      <td>52.9532</td>\n",
              "      <td>-114.321</td>\n",
              "      <td>3350</td>\n",
              "      <td>42847</td>\n",
              "      <td>3</td>\n",
              "      <td>76</td>\n",
              "      <td>838000</td>\n",
              "    </tr>\n",
              "    <tr>\n",
              "      <th>4</th>\n",
              "      <td>6762812919</td>\n",
              "      <td>42491</td>\n",
              "      <td>3</td>\n",
              "      <td>2.00</td>\n",
              "      <td>2710</td>\n",
              "      <td>4500</td>\n",
              "      <td>1.5</td>\n",
              "      <td>0</td>\n",
              "      <td>0</td>\n",
              "      <td>4</td>\n",
              "      <td>...</td>\n",
              "      <td>1929</td>\n",
              "      <td>0</td>\n",
              "      <td>122006</td>\n",
              "      <td>52.9047</td>\n",
              "      <td>-114.485</td>\n",
              "      <td>2060</td>\n",
              "      <td>4500</td>\n",
              "      <td>1</td>\n",
              "      <td>51</td>\n",
              "      <td>805000</td>\n",
              "    </tr>\n",
              "  </tbody>\n",
              "</table>\n",
              "<p>5 rows × 23 columns</p>\n",
              "</div>\n",
              "    <div class=\"colab-df-buttons\">\n",
              "\n",
              "  <div class=\"colab-df-container\">\n",
              "    <button class=\"colab-df-convert\" onclick=\"convertToInteractive('df-0bc7e9b2-cba9-4c28-8f48-369672a21ffe')\"\n",
              "            title=\"Convert this dataframe to an interactive table.\"\n",
              "            style=\"display:none;\">\n",
              "\n",
              "  <svg xmlns=\"http://www.w3.org/2000/svg\" height=\"24px\" viewBox=\"0 -960 960 960\">\n",
              "    <path d=\"M120-120v-720h720v720H120Zm60-500h600v-160H180v160Zm220 220h160v-160H400v160Zm0 220h160v-160H400v160ZM180-400h160v-160H180v160Zm440 0h160v-160H620v160ZM180-180h160v-160H180v160Zm440 0h160v-160H620v160Z\"/>\n",
              "  </svg>\n",
              "    </button>\n",
              "\n",
              "  <style>\n",
              "    .colab-df-container {\n",
              "      display:flex;\n",
              "      gap: 12px;\n",
              "    }\n",
              "\n",
              "    .colab-df-convert {\n",
              "      background-color: #E8F0FE;\n",
              "      border: none;\n",
              "      border-radius: 50%;\n",
              "      cursor: pointer;\n",
              "      display: none;\n",
              "      fill: #1967D2;\n",
              "      height: 32px;\n",
              "      padding: 0 0 0 0;\n",
              "      width: 32px;\n",
              "    }\n",
              "\n",
              "    .colab-df-convert:hover {\n",
              "      background-color: #E2EBFA;\n",
              "      box-shadow: 0px 1px 2px rgba(60, 64, 67, 0.3), 0px 1px 3px 1px rgba(60, 64, 67, 0.15);\n",
              "      fill: #174EA6;\n",
              "    }\n",
              "\n",
              "    .colab-df-buttons div {\n",
              "      margin-bottom: 4px;\n",
              "    }\n",
              "\n",
              "    [theme=dark] .colab-df-convert {\n",
              "      background-color: #3B4455;\n",
              "      fill: #D2E3FC;\n",
              "    }\n",
              "\n",
              "    [theme=dark] .colab-df-convert:hover {\n",
              "      background-color: #434B5C;\n",
              "      box-shadow: 0px 1px 3px 1px rgba(0, 0, 0, 0.15);\n",
              "      filter: drop-shadow(0px 1px 2px rgba(0, 0, 0, 0.3));\n",
              "      fill: #FFFFFF;\n",
              "    }\n",
              "  </style>\n",
              "\n",
              "    <script>\n",
              "      const buttonEl =\n",
              "        document.querySelector('#df-0bc7e9b2-cba9-4c28-8f48-369672a21ffe button.colab-df-convert');\n",
              "      buttonEl.style.display =\n",
              "        google.colab.kernel.accessAllowed ? 'block' : 'none';\n",
              "\n",
              "      async function convertToInteractive(key) {\n",
              "        const element = document.querySelector('#df-0bc7e9b2-cba9-4c28-8f48-369672a21ffe');\n",
              "        const dataTable =\n",
              "          await google.colab.kernel.invokeFunction('convertToInteractive',\n",
              "                                                    [key], {});\n",
              "        if (!dataTable) return;\n",
              "\n",
              "        const docLinkHtml = 'Like what you see? Visit the ' +\n",
              "          '<a target=\"_blank\" href=https://colab.research.google.com/notebooks/data_table.ipynb>data table notebook</a>'\n",
              "          + ' to learn more about interactive tables.';\n",
              "        element.innerHTML = '';\n",
              "        dataTable['output_type'] = 'display_data';\n",
              "        await google.colab.output.renderOutput(dataTable, element);\n",
              "        const docLink = document.createElement('div');\n",
              "        docLink.innerHTML = docLinkHtml;\n",
              "        element.appendChild(docLink);\n",
              "      }\n",
              "    </script>\n",
              "  </div>\n",
              "\n",
              "\n",
              "<div id=\"df-fceb0300-298d-42c7-878a-e85d62258621\">\n",
              "  <button class=\"colab-df-quickchart\" onclick=\"quickchart('df-fceb0300-298d-42c7-878a-e85d62258621')\"\n",
              "            title=\"Suggest charts\"\n",
              "            style=\"display:none;\">\n",
              "\n",
              "<svg xmlns=\"http://www.w3.org/2000/svg\" height=\"24px\"viewBox=\"0 0 24 24\"\n",
              "     width=\"24px\">\n",
              "    <g>\n",
              "        <path d=\"M19 3H5c-1.1 0-2 .9-2 2v14c0 1.1.9 2 2 2h14c1.1 0 2-.9 2-2V5c0-1.1-.9-2-2-2zM9 17H7v-7h2v7zm4 0h-2V7h2v10zm4 0h-2v-4h2v4z\"/>\n",
              "    </g>\n",
              "</svg>\n",
              "  </button>\n",
              "\n",
              "<style>\n",
              "  .colab-df-quickchart {\n",
              "      --bg-color: #E8F0FE;\n",
              "      --fill-color: #1967D2;\n",
              "      --hover-bg-color: #E2EBFA;\n",
              "      --hover-fill-color: #174EA6;\n",
              "      --disabled-fill-color: #AAA;\n",
              "      --disabled-bg-color: #DDD;\n",
              "  }\n",
              "\n",
              "  [theme=dark] .colab-df-quickchart {\n",
              "      --bg-color: #3B4455;\n",
              "      --fill-color: #D2E3FC;\n",
              "      --hover-bg-color: #434B5C;\n",
              "      --hover-fill-color: #FFFFFF;\n",
              "      --disabled-bg-color: #3B4455;\n",
              "      --disabled-fill-color: #666;\n",
              "  }\n",
              "\n",
              "  .colab-df-quickchart {\n",
              "    background-color: var(--bg-color);\n",
              "    border: none;\n",
              "    border-radius: 50%;\n",
              "    cursor: pointer;\n",
              "    display: none;\n",
              "    fill: var(--fill-color);\n",
              "    height: 32px;\n",
              "    padding: 0;\n",
              "    width: 32px;\n",
              "  }\n",
              "\n",
              "  .colab-df-quickchart:hover {\n",
              "    background-color: var(--hover-bg-color);\n",
              "    box-shadow: 0 1px 2px rgba(60, 64, 67, 0.3), 0 1px 3px 1px rgba(60, 64, 67, 0.15);\n",
              "    fill: var(--button-hover-fill-color);\n",
              "  }\n",
              "\n",
              "  .colab-df-quickchart-complete:disabled,\n",
              "  .colab-df-quickchart-complete:disabled:hover {\n",
              "    background-color: var(--disabled-bg-color);\n",
              "    fill: var(--disabled-fill-color);\n",
              "    box-shadow: none;\n",
              "  }\n",
              "\n",
              "  .colab-df-spinner {\n",
              "    border: 2px solid var(--fill-color);\n",
              "    border-color: transparent;\n",
              "    border-bottom-color: var(--fill-color);\n",
              "    animation:\n",
              "      spin 1s steps(1) infinite;\n",
              "  }\n",
              "\n",
              "  @keyframes spin {\n",
              "    0% {\n",
              "      border-color: transparent;\n",
              "      border-bottom-color: var(--fill-color);\n",
              "      border-left-color: var(--fill-color);\n",
              "    }\n",
              "    20% {\n",
              "      border-color: transparent;\n",
              "      border-left-color: var(--fill-color);\n",
              "      border-top-color: var(--fill-color);\n",
              "    }\n",
              "    30% {\n",
              "      border-color: transparent;\n",
              "      border-left-color: var(--fill-color);\n",
              "      border-top-color: var(--fill-color);\n",
              "      border-right-color: var(--fill-color);\n",
              "    }\n",
              "    40% {\n",
              "      border-color: transparent;\n",
              "      border-right-color: var(--fill-color);\n",
              "      border-top-color: var(--fill-color);\n",
              "    }\n",
              "    60% {\n",
              "      border-color: transparent;\n",
              "      border-right-color: var(--fill-color);\n",
              "    }\n",
              "    80% {\n",
              "      border-color: transparent;\n",
              "      border-right-color: var(--fill-color);\n",
              "      border-bottom-color: var(--fill-color);\n",
              "    }\n",
              "    90% {\n",
              "      border-color: transparent;\n",
              "      border-bottom-color: var(--fill-color);\n",
              "    }\n",
              "  }\n",
              "</style>\n",
              "\n",
              "  <script>\n",
              "    async function quickchart(key) {\n",
              "      const quickchartButtonEl =\n",
              "        document.querySelector('#' + key + ' button');\n",
              "      quickchartButtonEl.disabled = true;  // To prevent multiple clicks.\n",
              "      quickchartButtonEl.classList.add('colab-df-spinner');\n",
              "      try {\n",
              "        const charts = await google.colab.kernel.invokeFunction(\n",
              "            'suggestCharts', [key], {});\n",
              "      } catch (error) {\n",
              "        console.error('Error during call to suggestCharts:', error);\n",
              "      }\n",
              "      quickchartButtonEl.classList.remove('colab-df-spinner');\n",
              "      quickchartButtonEl.classList.add('colab-df-quickchart-complete');\n",
              "    }\n",
              "    (() => {\n",
              "      let quickchartButtonEl =\n",
              "        document.querySelector('#df-fceb0300-298d-42c7-878a-e85d62258621 button');\n",
              "      quickchartButtonEl.style.display =\n",
              "        google.colab.kernel.accessAllowed ? 'block' : 'none';\n",
              "    })();\n",
              "  </script>\n",
              "</div>\n",
              "\n",
              "    </div>\n",
              "  </div>\n"
            ]
          },
          "metadata": {},
          "execution_count": 2
        }
      ]
    },
    {
      "cell_type": "code",
      "source": [
        "X = df.drop('Price', axis=1).values\n",
        "y = df['Price'].values.reshape(-1, 1)#convert y into a column vector\n"
      ],
      "metadata": {
        "id": "jP5mUWsSWrBw"
      },
      "execution_count": 3,
      "outputs": []
    },
    {
      "cell_type": "code",
      "source": [
        "df.isnull().sum()"
      ],
      "metadata": {
        "colab": {
          "base_uri": "https://localhost:8080/"
        },
        "id": "FItNqxlrHYC8",
        "outputId": "0f8ea160-cc90-4e22-fe11-83d0d335293e"
      },
      "execution_count": 4,
      "outputs": [
        {
          "output_type": "execute_result",
          "data": {
            "text/plain": [
              "id                                       0\n",
              "Date                                     0\n",
              "number of bedrooms                       0\n",
              "number of bathrooms                      0\n",
              "living area                              0\n",
              "lot area                                 0\n",
              "number of floors                         0\n",
              "waterfront present                       0\n",
              "number of views                          0\n",
              "condition of the house                   0\n",
              "grade of the house                       0\n",
              "Area of the house(excluding basement)    0\n",
              "Area of the basement                     0\n",
              "Built Year                               0\n",
              "Renovation Year                          0\n",
              "Postal Code                              0\n",
              "Lattitude                                0\n",
              "Longitude                                0\n",
              "living_area_renov                        0\n",
              "lot_area_renov                           0\n",
              "Number of schools nearby                 0\n",
              "Distance from the airport                0\n",
              "Price                                    0\n",
              "dtype: int64"
            ]
          },
          "metadata": {},
          "execution_count": 4
        }
      ]
    },
    {
      "cell_type": "code",
      "source": [
        "from sklearn.model_selection import train_test_split\n",
        "from sklearn.preprocessing import StandardScaler\n",
        "import seaborn as sns\n",
        "\n"
      ],
      "metadata": {
        "id": "5Q4tDyVlosH8"
      },
      "execution_count": 5,
      "outputs": []
    },
    {
      "cell_type": "code",
      "source": [
        "x = df.iloc[:,:-1]\n",
        "y = df.iloc[:,-1]\n"
      ],
      "metadata": {
        "id": "GIWj_ZyWqarL"
      },
      "execution_count": 6,
      "outputs": []
    },
    {
      "cell_type": "code",
      "source": [
        "x=np.asarray(x)\n",
        "y=np.asarray(y)\n"
      ],
      "metadata": {
        "id": "vLL_Fo2CqpF8"
      },
      "execution_count": 7,
      "outputs": []
    },
    {
      "cell_type": "code",
      "source": [
        "X_train,X_test,y_train,y_test = train_test_split(X,y,test_size=0.2,random_state=42)\n",
        "print(X_train.shape,X_test.shape,y_train.shape,y_test.shape)"
      ],
      "metadata": {
        "colab": {
          "base_uri": "https://localhost:8080/"
        },
        "id": "A50oUhNBquna",
        "outputId": "c66f9b92-060a-4242-914e-8a1d3edcf884"
      },
      "execution_count": 8,
      "outputs": [
        {
          "output_type": "stream",
          "name": "stdout",
          "text": [
            "(11696, 22) (2924, 22) (11696,) (2924,)\n"
          ]
        }
      ]
    },
    {
      "cell_type": "code",
      "source": [
        "X_train.shape[1]"
      ],
      "metadata": {
        "colab": {
          "base_uri": "https://localhost:8080/"
        },
        "id": "VVh6ugcI7-to",
        "outputId": "8a629619-086c-4274-c4f3-ed1652ef1674"
      },
      "execution_count": 9,
      "outputs": [
        {
          "output_type": "execute_result",
          "data": {
            "text/plain": [
              "22"
            ]
          },
          "metadata": {},
          "execution_count": 9
        }
      ]
    },
    {
      "cell_type": "code",
      "source": [
        "mean = np.mean(X_train, axis=0)\n",
        "std = np.std(X_train, axis=0)\n",
        "\n",
        "# Normalize the data\n",
        "X_train = (X_train - mean) / std"
      ],
      "metadata": {
        "id": "79whHKOmQvKc"
      },
      "execution_count": 10,
      "outputs": []
    },
    {
      "cell_type": "code",
      "source": [
        "mean = np.mean(X_test, axis=0)\n",
        "std = np.std(X_test, axis=0)\n",
        "\n",
        "# Normalize the data\n",
        "X_test = (X_test - mean) / std"
      ],
      "metadata": {
        "id": "vQvy8G6xReJS"
      },
      "execution_count": 11,
      "outputs": []
    },
    {
      "cell_type": "code",
      "source": [
        "mean = np.mean(y_train, axis=0)\n",
        "std = np.std(y_train, axis=0)\n",
        "\n",
        "# Normalize the data\n",
        "y_train = (y_train - mean) / std"
      ],
      "metadata": {
        "id": "KRz-Q_Mt9_e-"
      },
      "execution_count": 12,
      "outputs": []
    },
    {
      "cell_type": "code",
      "source": [
        "mean = np.mean(y_test, axis=0)\n",
        "std = np.std(y_test, axis=0)\n",
        "\n",
        "# Normalize the data\n",
        "y_test = (y_test - mean) / std"
      ],
      "metadata": {
        "id": "NarBMXlF-FEY"
      },
      "execution_count": 13,
      "outputs": []
    },
    {
      "cell_type": "code",
      "source": [
        "#define neural network : without activation function\n",
        "input_size = X_train.shape[1]\n",
        "hidden_size = 4\n",
        "output_size=1"
      ],
      "metadata": {
        "id": "iNkYx-YR8kG4"
      },
      "execution_count": 14,
      "outputs": []
    },
    {
      "cell_type": "code",
      "source": [
        "#randomly initialize weights and biases\n",
        "np.random.seed(42)\n",
        "hidden_weights=np.random.randn(input_size,hidden_size)\n",
        "hidden_bias=np.zeros(hidden_size)\n",
        "output_weights=np.random.randn(hidden_size,output_size)\n",
        "output_bias=np.zeros(output_size)"
      ],
      "metadata": {
        "id": "vyKT063j80ky"
      },
      "execution_count": 15,
      "outputs": []
    },
    {
      "cell_type": "code",
      "source": [
        "learning_rate = 0.001\n",
        "num_epochs = 15000\n",
        "\n",
        "for epoch in range(num_epochs):\n",
        "  #forward propagation\n",
        "  hidden_layer_input = np.dot(X_train,hidden_weights)+hidden_bias\n",
        "  hidden_layer_output = 1/(1+np.exp(-hidden_layer_input))\n",
        "  predictions = np.dot(hidden_layer_output,output_weights)+output_bias\n",
        "\n",
        "  #mean squared error\n",
        "  loss = np.mean((predictions - y_train.reshape(-1,1)) ** 2)\n",
        "\n",
        "  #backpropagation\n",
        "  output_error = 2 * (predictions - y_train.reshape(-1,1))#gradient of mse\n",
        "  hidden_error = np.dot(output_error,output_weights.T)*hidden_layer_output*(1-hidden_layer_output)\n",
        "\n",
        "  #update w and b using gradient descent\n",
        "\n",
        "  output_weights -= learning_rate * np.dot(hidden_layer_output.T , output_error) / len(y_train)\n",
        "  output_bias -= learning_rate * np.sum(output_error) / len(y_train)\n",
        "  hidden_weights -= learning_rate * np.dot(X_train.T,hidden_error) / len(y_train)\n",
        "  hidden_bias -= learning_rate * np.sum(hidden_error) / len(y_train)\n",
        "\n",
        "  if epoch%100==0 :\n",
        "    print(f\"epoch {epoch} , loss: {loss:.4f}\")\n"
      ],
      "metadata": {
        "colab": {
          "base_uri": "https://localhost:8080/"
        },
        "id": "SYne-C0W9TZn",
        "outputId": "98628063-19a2-48f0-803c-c3f4163afc34"
      },
      "execution_count": 16,
      "outputs": [
        {
          "output_type": "stream",
          "name": "stdout",
          "text": [
            "epoch 0 , loss: 1.7925\n",
            "epoch 100 , loss: 1.4085\n",
            "epoch 200 , loss: 1.2408\n",
            "epoch 300 , loss: 1.1592\n",
            "epoch 400 , loss: 1.1126\n",
            "epoch 500 , loss: 1.0808\n",
            "epoch 600 , loss: 1.0558\n",
            "epoch 700 , loss: 1.0343\n",
            "epoch 800 , loss: 1.0149\n",
            "epoch 900 , loss: 0.9970\n",
            "epoch 1000 , loss: 0.9803\n",
            "epoch 1100 , loss: 0.9648\n",
            "epoch 1200 , loss: 0.9501\n",
            "epoch 1300 , loss: 0.9364\n",
            "epoch 1400 , loss: 0.9235\n",
            "epoch 1500 , loss: 0.9113\n",
            "epoch 1600 , loss: 0.8998\n",
            "epoch 1700 , loss: 0.8890\n",
            "epoch 1800 , loss: 0.8787\n",
            "epoch 1900 , loss: 0.8691\n",
            "epoch 2000 , loss: 0.8599\n",
            "epoch 2100 , loss: 0.8512\n",
            "epoch 2200 , loss: 0.8430\n",
            "epoch 2300 , loss: 0.8353\n",
            "epoch 2400 , loss: 0.8279\n",
            "epoch 2500 , loss: 0.8209\n",
            "epoch 2600 , loss: 0.8142\n",
            "epoch 2700 , loss: 0.8079\n",
            "epoch 2800 , loss: 0.8019\n",
            "epoch 2900 , loss: 0.7961\n",
            "epoch 3000 , loss: 0.7907\n",
            "epoch 3100 , loss: 0.7855\n",
            "epoch 3200 , loss: 0.7805\n",
            "epoch 3300 , loss: 0.7757\n",
            "epoch 3400 , loss: 0.7712\n",
            "epoch 3500 , loss: 0.7668\n",
            "epoch 3600 , loss: 0.7627\n",
            "epoch 3700 , loss: 0.7587\n",
            "epoch 3800 , loss: 0.7549\n",
            "epoch 3900 , loss: 0.7512\n",
            "epoch 4000 , loss: 0.7477\n",
            "epoch 4100 , loss: 0.7443\n",
            "epoch 4200 , loss: 0.7411\n",
            "epoch 4300 , loss: 0.7380\n",
            "epoch 4400 , loss: 0.7349\n",
            "epoch 4500 , loss: 0.7320\n",
            "epoch 4600 , loss: 0.7292\n",
            "epoch 4700 , loss: 0.7265\n",
            "epoch 4800 , loss: 0.7239\n",
            "epoch 4900 , loss: 0.7214\n",
            "epoch 5000 , loss: 0.7190\n",
            "epoch 5100 , loss: 0.7166\n",
            "epoch 5200 , loss: 0.7143\n",
            "epoch 5300 , loss: 0.7121\n",
            "epoch 5400 , loss: 0.7099\n",
            "epoch 5500 , loss: 0.7078\n",
            "epoch 5600 , loss: 0.7058\n",
            "epoch 5700 , loss: 0.7038\n",
            "epoch 5800 , loss: 0.7019\n",
            "epoch 5900 , loss: 0.7000\n",
            "epoch 6000 , loss: 0.6982\n",
            "epoch 6100 , loss: 0.6964\n",
            "epoch 6200 , loss: 0.6946\n",
            "epoch 6300 , loss: 0.6929\n",
            "epoch 6400 , loss: 0.6912\n",
            "epoch 6500 , loss: 0.6896\n",
            "epoch 6600 , loss: 0.6880\n",
            "epoch 6700 , loss: 0.6864\n",
            "epoch 6800 , loss: 0.6849\n",
            "epoch 6900 , loss: 0.6834\n",
            "epoch 7000 , loss: 0.6819\n",
            "epoch 7100 , loss: 0.6805\n",
            "epoch 7200 , loss: 0.6790\n",
            "epoch 7300 , loss: 0.6776\n",
            "epoch 7400 , loss: 0.6762\n",
            "epoch 7500 , loss: 0.6749\n",
            "epoch 7600 , loss: 0.6735\n",
            "epoch 7700 , loss: 0.6722\n",
            "epoch 7800 , loss: 0.6709\n",
            "epoch 7900 , loss: 0.6696\n",
            "epoch 8000 , loss: 0.6683\n",
            "epoch 8100 , loss: 0.6671\n",
            "epoch 8200 , loss: 0.6658\n",
            "epoch 8300 , loss: 0.6646\n",
            "epoch 8400 , loss: 0.6634\n",
            "epoch 8500 , loss: 0.6622\n",
            "epoch 8600 , loss: 0.6610\n",
            "epoch 8700 , loss: 0.6598\n",
            "epoch 8800 , loss: 0.6586\n",
            "epoch 8900 , loss: 0.6575\n",
            "epoch 9000 , loss: 0.6563\n",
            "epoch 9100 , loss: 0.6552\n",
            "epoch 9200 , loss: 0.6541\n",
            "epoch 9300 , loss: 0.6529\n",
            "epoch 9400 , loss: 0.6518\n",
            "epoch 9500 , loss: 0.6507\n",
            "epoch 9600 , loss: 0.6496\n",
            "epoch 9700 , loss: 0.6485\n",
            "epoch 9800 , loss: 0.6474\n",
            "epoch 9900 , loss: 0.6464\n",
            "epoch 10000 , loss: 0.6453\n",
            "epoch 10100 , loss: 0.6442\n",
            "epoch 10200 , loss: 0.6432\n",
            "epoch 10300 , loss: 0.6421\n",
            "epoch 10400 , loss: 0.6411\n",
            "epoch 10500 , loss: 0.6400\n",
            "epoch 10600 , loss: 0.6390\n",
            "epoch 10700 , loss: 0.6380\n",
            "epoch 10800 , loss: 0.6369\n",
            "epoch 10900 , loss: 0.6359\n",
            "epoch 11000 , loss: 0.6349\n",
            "epoch 11100 , loss: 0.6339\n",
            "epoch 11200 , loss: 0.6329\n",
            "epoch 11300 , loss: 0.6318\n",
            "epoch 11400 , loss: 0.6308\n",
            "epoch 11500 , loss: 0.6298\n",
            "epoch 11600 , loss: 0.6288\n",
            "epoch 11700 , loss: 0.6279\n",
            "epoch 11800 , loss: 0.6269\n",
            "epoch 11900 , loss: 0.6259\n",
            "epoch 12000 , loss: 0.6249\n",
            "epoch 12100 , loss: 0.6239\n",
            "epoch 12200 , loss: 0.6229\n",
            "epoch 12300 , loss: 0.6220\n",
            "epoch 12400 , loss: 0.6210\n",
            "epoch 12500 , loss: 0.6200\n",
            "epoch 12600 , loss: 0.6191\n",
            "epoch 12700 , loss: 0.6181\n",
            "epoch 12800 , loss: 0.6171\n",
            "epoch 12900 , loss: 0.6162\n",
            "epoch 13000 , loss: 0.6152\n",
            "epoch 13100 , loss: 0.6143\n",
            "epoch 13200 , loss: 0.6133\n",
            "epoch 13300 , loss: 0.6124\n",
            "epoch 13400 , loss: 0.6114\n",
            "epoch 13500 , loss: 0.6105\n",
            "epoch 13600 , loss: 0.6095\n",
            "epoch 13700 , loss: 0.6086\n",
            "epoch 13800 , loss: 0.6077\n",
            "epoch 13900 , loss: 0.6067\n",
            "epoch 14000 , loss: 0.6058\n",
            "epoch 14100 , loss: 0.6049\n",
            "epoch 14200 , loss: 0.6039\n",
            "epoch 14300 , loss: 0.6030\n",
            "epoch 14400 , loss: 0.6021\n",
            "epoch 14500 , loss: 0.6012\n",
            "epoch 14600 , loss: 0.6002\n",
            "epoch 14700 , loss: 0.5993\n",
            "epoch 14800 , loss: 0.5984\n",
            "epoch 14900 , loss: 0.5975\n"
          ]
        }
      ]
    },
    {
      "cell_type": "code",
      "source": [
        "# Assuming predictions and y_train contain predicted and actual values respectively\n",
        "\n",
        "# Define a threshold for correctness (e.g., 0.5)\n",
        "threshold = 0.5\n",
        "\n",
        "# Count correct predictions within the threshold\n",
        "correct_predictions = np.sum(np.abs(predictions - y_train.reshape(-1, 1)) < threshold)\n",
        "\n",
        "# Calculate accuracy\n",
        "accuracy = correct_predictions / len(y_train)\n",
        "print(f\"Accuracy: {accuracy}\")\n"
      ],
      "metadata": {
        "colab": {
          "base_uri": "https://localhost:8080/"
        },
        "id": "ZeREyQsTQgsM",
        "outputId": "e438c712-a986-47ff-b249-9827a36cf64e"
      },
      "execution_count": 24,
      "outputs": [
        {
          "output_type": "stream",
          "name": "stdout",
          "text": [
            "Accuracy: 0.7423050615595075\n"
          ]
        }
      ]
    },
    {
      "cell_type": "code",
      "source": [
        "# Assuming predictions and y_train contain predicted and actual values respectively\n",
        "\n",
        "# Calculate the mean of the actual values\n",
        "y_mean = np.mean(y_train)\n",
        "\n",
        "# Calculate the total sum of squares (TSS)\n",
        "TSS = np.sum((y_train - y_mean) ** 2)\n",
        "\n",
        "# Calculate the residual sum of squares (RSS)\n",
        "RSS = np.sum((predictions - y_train.reshape(-1, 1)) ** 2)\n",
        "\n",
        "# Calculate R-squared (R2) score\n",
        "R2 = 1 - (RSS / TSS)\n",
        "print(f\"R-squared (R2) Score: {R2}\")\n"
      ],
      "metadata": {
        "colab": {
          "base_uri": "https://localhost:8080/"
        },
        "id": "GliwBE_cQjyk",
        "outputId": "39bf1ca2-ab9a-4684-a788-a2c5b7cd403e"
      },
      "execution_count": 25,
      "outputs": [
        {
          "output_type": "stream",
          "name": "stdout",
          "text": [
            "R-squared (R2) Score: 0.4034220585252174\n"
          ]
        }
      ]
    },
    {
      "cell_type": "code",
      "source": [
        "#mse on test set\n",
        "mse = np.square(np.subtract(y_test,predicted_prices)).mean()\n",
        "print(mse)"
      ],
      "metadata": {
        "colab": {
          "base_uri": "https://localhost:8080/"
        },
        "id": "y9f5JVn8c9dP",
        "outputId": "7cb8f589-0a80-48d4-dc7d-f98c8f0a6646"
      },
      "execution_count": 18,
      "outputs": [
        {
          "output_type": "stream",
          "name": "stdout",
          "text": [
            "1.3591367407877906\n"
          ]
        }
      ]
    },
    {
      "cell_type": "code",
      "source": [
        "rmse = np.sqrt(mse)\n",
        "rmse"
      ],
      "metadata": {
        "colab": {
          "base_uri": "https://localhost:8080/"
        },
        "id": "V63Sv-FxdZUz",
        "outputId": "1064efbb-19de-4a8e-a758-5ccbae3c71a9"
      },
      "execution_count": 19,
      "outputs": [
        {
          "output_type": "execute_result",
          "data": {
            "text/plain": [
              "1.1658202008833911"
            ]
          },
          "metadata": {},
          "execution_count": 19
        }
      ]
    },
    {
      "cell_type": "code",
      "source": [],
      "metadata": {
        "id": "SOnSkrgne03g"
      },
      "execution_count": null,
      "outputs": []
    }
  ]
}